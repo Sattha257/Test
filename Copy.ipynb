{
 "cells": [
  {
   "cell_type": "markdown",
   "metadata": {},
   "source": [
    "# Coursework Example for BEMM461 Project \n",
    "\n",
    "## Introduction\n",
    "This jupyter notebook provides an example for the BEMM461 project coursework, second submission.  Students are cautioned against following the example slavishly, but to pick out elements that can help support their understanding of what they can do.\n",
    "\n",
    "## Table of Links\n",
    "### Table\n",
    "| Description | Link |\n",
    "| -- | -- |\n",
    "| Reflective blog | Insert Link here |\n",
    "| Chosen Dataset | Insert Link here |\n",
    "\n",
    "## Table of Contents\n",
    "1. Executive Summary\n",
    "2. Project Dashboard\n",
    "3. Background to the Project\n",
    "4. Articulation of Decision Making Process\n",
    "5. Review of Analytics Methods Chosen\n",
    "6. Review of Available Tools\n",
    "7. Review of Chosen Datasets \n",
    "8. Visualisation of Data with Accompanying Code\n",
    "9. Reflective Evaluation\n",
    "10. Conclusion\n"
   ]
  },
  {
   "cell_type": "markdown",
   "metadata": {},
   "source": [
    "## 1. Executive Summary\n",
    "\n",
    "The culmination of this term's effort is showcased in this notebook, demonstrating the development of knowledge and skills acquired throughout the BEMM461 project. The primary focus lies in presenting a key visualization that encapsulates the project's essence. The notebook delves into the project's background, offering insights into the business context and expounding on the identified decision-making process. Moreover, it includes a thorough review and critique of the chosen analytics methods, followed by an evaluation of the selected tools.\n",
    "\n",
    "To ensure transparency, a link to the utilized datasets is provided, facilitating access to the data for further exploration. The notebook showcases the Python code developed for visualizing the data, allowing others to grasp the methodologies employed. Additionally, a reflective blog is furnished, elucidating the project's journey, highlighting encountered challenges, and imparting valuable lessons gleaned.\n",
    "\n",
    "The conclusion offers a comprehensive summary of the entire notebook, encapsulating the key findings and outcomes. Throughout the document, authoritative references are thoughtfully provided and diligently cited to support the presented work.\n",
    "\n"
   ]
  },
  {
   "cell_type": "markdown",
   "metadata": {},
   "source": [
    "## 2. Project Dashboard\n",
    "You are to provide an interactive, web based dashboard built using the Dash python framework that uses [Dash.plotly.com](http://dash.plotly.com).  \n",
    "\n",
    "Your dashboard should provide the key visualisations of the project.  Use the dashboard to present the key visualisations that a manager or a consultant would need to make decisions.  Place the python code to create the dashboard in the cell of this notebook.  See below for an example.\n",
    "\n",
    "Dashboards need to aggregate and summarise appropriately.  Consider how human memory and perception play a part in interpreting data.  Dashboards focus on iconic and short-term memory.  The goals of dashboard design are as follows:\n",
    "- display using the most effective media possible so that it can easily be perceived.  This is where a web based dashboard is best suited.  \n",
    "- Organise the information as concisely as possible so that short-term memory can optimally group and analyse quickly and accurately.  \n",
    "\n",
    "Effective dashboards contain layers of information that the audience can delve into deeper.  Structure your information to account for these layers.  Use the Monitor, Analyse, Drill to detail approach as determined by Wayn Eckerson.\n",
    "Monitor - a high level trend, issue or anomaly.\n",
    "Analyse - show more detail but still a summary.  Tailored to your audience.\n",
    "Detail - includes more details but still relevant to the audience."
   ]
  },
  {
   "cell_type": "code",
   "execution_count": 2,
   "metadata": {},
   "outputs": [
    {
     "data": {
      "text/html": [
       "\n",
       "        <iframe\n",
       "            width=\"100%\"\n",
       "            height=\"650\"\n",
       "            src=\"http://127.0.0.1:8050/\"\n",
       "            frameborder=\"0\"\n",
       "            allowfullscreen\n",
       "            \n",
       "        ></iframe>\n",
       "        "
      ],
      "text/plain": [
       "<IPython.lib.display.IFrame at 0x15317ffd0>"
      ]
     },
     "metadata": {},
     "output_type": "display_data"
    }
   ],
   "source": [
    "from dash import Dash, html, dash_table, dcc\n",
    "import plotly.express as px\n",
    "import pandas as pd\n",
    "\n",
    "# Incorporate data\n",
    "df = pd.read_csv('https://raw.githubusercontent.com/plotly/datasets/master/gapminder2007.csv')\n",
    "\n",
    "# Initialize the app\n",
    "app = Dash(__name__)\n",
    "\n",
    "# App layout\n",
    "app.layout = html.Div([\n",
    "    html.Div(children='Data and a Graph'),\n",
    "    dash_table.DataTable(data=df.to_dict('records'), page_size=10),\n",
    "    dcc.Graph(figure=px.histogram(df, x='continent', y='lifeExp', histfunc='avg'))\n",
    "])\n",
    "\n",
    "# Run the app\n",
    "if __name__ == '__main__':\n",
    "    app.run(debug=True)"
   ]
  },
  {
   "cell_type": "markdown",
   "metadata": {},
   "source": [
    "## 3. Background to the Project\n",
    "\n",
    "Provide context and background information on the project's subject and objectives."
   ]
  },
  {
   "cell_type": "markdown",
   "metadata": {},
   "source": [
    "## 4. Articulation of Decision Making Process\n",
    "Explain the main focus of the project, including the specific decision-making process under study.  Ensure this has explicit links to your reflective blog.  \n",
    "\n",
    "E.g. Cleaning the data required the development of knowledge of XML and suitable python libraries were evaluated to assist in this process.  Refer to blog post 3 on 14th October for further details [Link provided here]"
   ]
  },
  {
   "cell_type": "markdown",
   "metadata": {},
   "source": [
    "## 5. Review of Analytics Methods Chosen\n",
    "Discuss the analytics methods used in the project and their rationale."
   ]
  },
  {
   "cell_type": "markdown",
   "metadata": {},
   "source": [
    "## 6. Review of Available Tools\n",
    "Present the tools and technologies you could have used in the project if you had free choice.  Discuss why they would be suitable and what benefits they would bring.  Also discuss any barriers or pitfalls that using such tools might raise."
   ]
  },
  {
   "cell_type": "markdown",
   "metadata": {},
   "source": [
    "## 7. Review of Chosen Datasets \n",
    "Refer to the link you have provided in the table at the beginning of the document.  Discuss why the datasets chosen were appropriate.  Reflect on working with them and refer to blog posts where necessary. "
   ]
  },
  {
   "cell_type": "markdown",
   "metadata": {},
   "source": [
    "## 8. Visualisation of Data with Accompanying Code\n",
    "Display various key visualizations of the data along with the corresponding code.  Discuss why each of these key visualisations were chosen for the dashboard.  Justify their inclusion and show how they were created.\n",
    "\n",
    "Do not discuss every visualisation in the dashboard, but be strategic about which ones you feel need further elaboration here."
   ]
  },
  {
   "cell_type": "code",
   "execution_count": null,
   "metadata": {},
   "outputs": [],
   "source": [
    "#Accompanying code for section 8"
   ]
  },
  {
   "cell_type": "markdown",
   "metadata": {},
   "source": [
    "## 9. Reflective Evaluation\n",
    "Reflect on the project's process, challenges faced, and lessons learned."
   ]
  },
  {
   "cell_type": "markdown",
   "metadata": {},
   "source": [
    "## 10. Conclusion\n",
    "Summarize the overall outcomes and significance of the project."
   ]
  },
  {
   "cell_type": "markdown",
   "metadata": {},
   "source": [
    "\n",
    "## References\n",
    "Include any references, data sources, or external materials used in the project.\n",
    "Remember, this is just a suggested outline; feel free to modify it based on the specific requirements and content of your BEMM461 project coursework."
   ]
  },
  {
   "cell_type": "code",
   "execution_count": null,
   "metadata": {},
   "outputs": [],
   "source": []
  }
 ],
 "metadata": {
  "kernelspec": {
   "display_name": "Python 3 (ipykernel)",
   "language": "python",
   "name": "python3"
  },
  "language_info": {
   "codemirror_mode": {
    "name": "ipython",
    "version": 3
   },
   "file_extension": ".py",
   "mimetype": "text/x-python",
   "name": "python",
   "nbconvert_exporter": "python",
   "pygments_lexer": "ipython3",
   "version": "3.12.4"
  }
 },
 "nbformat": 4,
 "nbformat_minor": 4
}
